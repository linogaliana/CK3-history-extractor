{
 "cells": [
  {
   "cell_type": "code",
   "execution_count": 1,
   "metadata": {},
   "outputs": [
    {
     "name": "stderr",
     "output_type": "stream",
     "text": [
      "\u001b[32m2024-12-21 22:09:37.307\u001b[0m | \u001b[1mINFO    \u001b[0m | \u001b[36m__main__\u001b[0m:\u001b[36m<module>\u001b[0m:\u001b[36m25\u001b[0m - \u001b[1mUsing save file: c:\\Users\\linog\\AppData\\Roaming\\jupyter\\runtime\\kernel-v3cd3045b589da401f14c55830165b84644d451560.json\u001b[0m\n"
     ]
    },
    {
     "name": "stderr",
     "output_type": "stream",
     "text": [
      "\u001b[32m2024-12-21 22:09:40.614\u001b[0m | \u001b[1mINFO    \u001b[0m | \u001b[36m__main__\u001b[0m:\u001b[36mimport_file\u001b[0m:\u001b[36m44\u001b[0m - \u001b[1mFile length: 340 381 637 characters (20 322 233 lines)\u001b[0m\n",
      "\u001b[32m2024-12-21 22:09:40.615\u001b[0m | \u001b[1mINFO    \u001b[0m | \u001b[36m__main__\u001b[0m:\u001b[36mimport_file\u001b[0m:\u001b[36m54\u001b[0m - \u001b[1mReading time: 3.31 seconds\u001b[0m\n"
     ]
    }
   ],
   "source": [
    "import time\n",
    "import re\n",
    "import argparse\n",
    "from loguru import logger\n",
    "\n",
    "\n",
    "# APPLICATION PARAMETERS ----------------------------\n",
    "\n",
    "# Set up argument parser\n",
    "parser = argparse.ArgumentParser(description=\"Process a CK3 save file.\")\n",
    "parser.add_argument(\n",
    "    \"--filename\",\n",
    "    nargs=\"?\",\n",
    "    default=\"data/latest/gamestate.ck3\",\n",
    "    help=\"Name of the readable CK3 save file\",\n",
    ")\n",
    "\n",
    "\n",
    "# Parse arguments\n",
    "args = parser.parse_args()\n",
    "\n",
    "# Use the filename from arguments\n",
    "filename = args.filename\n",
    "\n",
    "logger.info(f\"Using save file: {filename}\")\n",
    "\n",
    "\n",
    "\n",
    "# FUNCTION ----------------------------\n",
    "\n",
    "def import_file(filename: str) -> str:\n",
    "    \"\"\"Import a CK3 save file.\"\"\"\n",
    "\n",
    "    start_time = time.time()\n",
    "\n",
    "    with open(filename, \"r\", encoding=\"utf-8\") as myfile:\n",
    "        data = myfile.read()\n",
    "\n",
    "        # Calculate file length and number of lines\n",
    "        file_length = len(data)\n",
    "        line_count = len(data.split(\"\\n\"))\n",
    "\n",
    "        # Log formatted output with spaces as thousand separators\n",
    "        logger.info(\n",
    "            f\"File length: {file_length:,}\".replace(\",\", \" \")\n",
    "            + f\" characters ({line_count:,}\".replace(\",\", \" \")\n",
    "            + \" lines)\"\n",
    "        )\n",
    "\n",
    "    end_time = time.time()\n",
    "    reading_time = end_time - start_time\n",
    "\n",
    "    # Log the reading time\n",
    "    logger.info(f\"Reading time: {reading_time:.2f} seconds\")\n",
    "\n",
    "    return data\n",
    "\n",
    "\n",
    "# FUNCTION ----------------------------\n",
    "\n",
    "data = import_file(\"data/latest/gamestate.ck3\")\n",
    "charachterhistory = re.findall(r'played_character={.+?\\n}', data, re.S)"
   ]
  },
  {
   "cell_type": "code",
   "execution_count": 2,
   "metadata": {},
   "outputs": [],
   "source": [
    "def findCharData(charid:str, data:str) -> str:\n",
    "    charData = re.findall(r'\\n%s={\\n\\tfirst_name=.+?\\n}' % charid, data, re.S)\n",
    "    return charData[0]"
   ]
  },
  {
   "cell_type": "code",
   "execution_count": null,
   "metadata": {},
   "outputs": [
    {
     "data": {
      "text/plain": [
       "['\\n\\t\\tprimary_spouse=21379\\n\\t\\tspouse=20037\\n\\t\\tspouse=21379\\n\\t\\tformer_spouses={ 20037 21379 }\\n\\t\\tchild={ 20677 41521 43777 16819645 44187 33578400 33596434 52665 }\\n']"
      ]
     },
     "execution_count": 16,
     "metadata": {},
     "output_type": "execute_result"
    }
   ],
   "source": [
    "from datetime import datetime\n",
    "\n",
    "played_characters = re.findall(r'character=(\\d+)', charachterhistory[0])\n",
    "charData = findCharData(played_characters[1], data)\n",
    "findName = re.findall(r'first_name=\"(.*?)\"', charData, re.S)\n",
    "# Extract birth date and convert to standard datetime format\n",
    "birth = re.findall(r'birth=(.*?)\\n', charData, re.S)\n",
    "birth_date = datetime.strptime(birth[0], \"%Y.%m.%d\")\n",
    "dynasty_character = re.findall(r'dynasty_house=(\\d+)', charData)\n",
    "findCulture = re.findall(r'culture=(.*?)\\n', charData, re.S)\n",
    "faith_character = re.findall(r'faith=(.*?)\\n', charData)\n",
    "skills_character = re.findall(r'skill={(.*?)}', charData, re.S)[0].split(' ')\n",
    "skills_character = [skill for skill in skills_character if skill != '']\n",
    "findTraits = re.findall(r'traits={(.*?)}', charData, re.S)[0].split(' ')[1:-1]\n",
    "findRecessive = re.findall(r'recessive_traits={(.*?)}', charData, re.S)\n",
    "if len(findRecessive) > 0:\n",
    "    findRecessive = findRecessive[0].split(' ')[1:-1]\n",
    "\n"
   ]
  },
  {
   "cell_type": "code",
   "execution_count": 4,
   "metadata": {},
   "outputs": [],
   "source": [
    "def findDynastyData(dynid:str, data:str) -> str:\n",
    "    i = 0\n",
    "    dynData = re.findall(r'\\n%s={\\n\\t.+?\\n}' % dynid, data, re.S)\n",
    "    while 'prestige=' not in dynData[i]: #we have to iterate over all hits because pdx are not nice to me\n",
    "        i = i + 1\n",
    "    return dynData[i]"
   ]
  },
  {
   "cell_type": "code",
   "execution_count": null,
   "metadata": {},
   "outputs": [],
   "source": [
    "\n",
    "            self.house = 'Lowborn'\n",
    "        if 'dead_data' in rawData:\n",
    "            self.dead = True\n",
    "            self.date = re.findall(r'date=(.*?)\\n', rawData, re.S)[0]\n",
    "            self.reason = gameStringToRead(re.findall(r'reason=\"(.*?)\"\\n', rawData, re.S)[0])\n",
    "            findLiege = re.findall(r'liege=(.*?)\\n', rawData, re.S)\n",
    "            if len(findLiege) > 0:\n",
    "                liege = findLiege[0]\n",
    "                if(liege != charid):\n",
    "                    self.liege = liege\n",
    "            findGovernment = re.findall(r'government=\"(.*?)\"', rawData, re.S)\n",
    "            if len(findGovernment) > 0:\n",
    "                self.government = findGovernment[0]\n",
    "                findDomain = re.findall(r'domain={(.*?)}', rawData, re.S)\n",
    "                titleList = findDomain[0].split(' ')[1:-1]\n",
    "                self.titles = []\n",
    "                for title in titleList:\n",
    "                    if title in knownTitles.keys():\n",
    "                        self.titles.append(knownTitles[title])\n",
    "                    else:\n",
    "                        self.titles.append(gTitle(title, allData, env, path))\n",
    "            else:\n",
    "                self.government = 'Unlanded'\n",
    "        else:\n",
    "            self.dead = False\n",
    "            #the char isnt dead we need to parse other stuff\n",
    "            findGold = re.findall(r'gold=(.*?)\\n', rawData, re.S)\n",
    "            self.gold = findGold[0]\n",
    "            findPiety = re.findall(r'accumulated=(.*?)\\n', rawData, re.S)\n",
    "            self.piety = findPiety[0]\n",
    "            self.prestige = findPiety[0]\n",
    "            findKills = re.findall(r'kills={(.*?)}', rawData, re.S)\n",
    "            if len(findKills) > 0 and limit > 0:\n",
    "                killList = findKills[0].split(' ')[1:-1]\n",
    "                self.kills = []\n",
    "                for dead in killList:\n",
    "                    if dead in knownChars.keys():\n",
    "                        self.kills.append(knownChars[dead])\n",
    "                    else:\n",
    "                        self.kills.append(gChar(dead, allData, env, path, limit - 1))\n",
    "            findLanguages = re.findall(r'languages={(.*?)}', rawData, re.S)\n",
    "            if len(findLanguages) > 0:\n",
    "                self.languages = []\n",
    "                for lang in findLanguages:\n",
    "                    self.languages.append(lang.replace('language_', ''))\n",
    "            findGovernment = re.findall(r'government=\"(.*?)\"', rawData, re.S)\n",
    "            if len(findGovernment) > 0:\n",
    "                self.government = findGovernment[0]\n",
    "                findDomain = re.findall(r'domain={(.*?)}', rawData, re.S)\n",
    "                titleList = findDomain[0].split(' ')[1:-1]\n",
    "                self.titles = []\n",
    "                for title in titleList:\n",
    "                    if title in knownTitles.keys():\n",
    "                        self.titles.append(knownTitles[title])\n",
    "                    else:\n",
    "                        self.titles.append(gTitle(title, allData, env, path))\n",
    "                findVassals = re.findall(r'vassal_contracts={(.*?)}', rawData, re.S)\n",
    "                if len(findVassals) > 0 and limit > 0:\n",
    "                    self.vassals = []\n",
    "                    for vassal in findVassals[0].split(' ')[1:-1]:\n",
    "                        try:\n",
    "                            vassalId = findVassal(vassal, allData)\n",
    "                            if vassalId in knownChars.keys():\n",
    "                                self.vassals.append(knownChars[vassalId])\n",
    "                            else:\n",
    "                                self.vassals.append(gChar(vassalId, allData, env, path, limit - 1))\n",
    "                        except:\n",
    "                            pass\n",
    "                findDread = re.findall(r'dread=(.*?)\\n', rawData, re.S)\n",
    "                if len(findDread):\n",
    "                    self.dread = findDread[0]\n",
    "                else:\n",
    "                    self.dread = 0\n",
    "                findStrength = re.findall(r'current_strength=(.*?)\\n', rawData, re.S)\n",
    "                if len(findStrength) > 0:\n",
    "                    self.strength = findStrength[0]\n",
    "                else:\n",
    "                    self.strength = 0\n",
    "            else:\n",
    "                self.government = 'Unlanded'\n",
    "            findMemories = re.findall(r'memories={(.*?)}', rawData, re.S)[0].split(' ')[1:-1]\n",
    "            if len(findMemories) > 0:\n",
    "                self.memories = []\n",
    "                for memory in findMemories:\n",
    "                    self.memories.append(gMem(memory, allData))\n",
    "        #save to global variable\n"
   ]
  },
  {
   "cell_type": "code",
   "execution_count": 5,
   "metadata": {},
   "outputs": [
    {
     "data": {
      "text/plain": [
       "'\\n0={\\n\\tkey=2\\n\\tprestige={\\n\\t\\tcurrency=781.9568\\n\\t\\taccumulated=2081.9568\\n\\t}\\n\\tcoat_of_arms_id=1324\\n\\tperk={ glory_legacy_1 glory_legacy_2 }\\n}'"
      ]
     },
     "execution_count": 5,
     "metadata": {},
     "output_type": "execute_result"
    }
   ],
   "source": [
    "findDynastyData(\"0\", data)"
   ]
  },
  {
   "cell_type": "code",
   "execution_count": null,
   "metadata": {},
   "outputs": [],
   "source": []
  },
  {
   "cell_type": "code",
   "execution_count": null,
   "metadata": {},
   "outputs": [],
   "source": [
    "import pandas as pd\n",
    "import re\n",
    "\n",
    "# Define the data (formatted as a string for demonstration purposes)\n",
    "# data = \"\"\"{your_nested_data_here}\"\"\"  # Replace with your actual nested data\n",
    "\n",
    "# Step 1: Preprocess the data\n",
    "# Convert the data to a Python dictionary-like structure by removing invalid syntax\n",
    "data_cleaned = re.sub(r\"\\n|\\t|\\s\", \"\", data)  # Remove unnecessary whitespace\n",
    "\n",
    "# Extract dynasty information using regex\n",
    "matches = re.findall(r\"(\\d+)={(.*?)name=\\\"(.*?)\\\".*?found_date=(\\d{1,4}\\.\\d{1,2}\\.\\d{1,2}).*?dynasty=(\\d+).*?motto=(\\{.*?\\}|\\\"\\\")\", data_cleaned)\n",
    "\n",
    "# Step 2: Transform into a list of dictionaries\n",
    "rows = []\n",
    "for match in matches:\n",
    "    dynasty_id, _, name, found_date, dynasty, motto = match\n",
    "\n",
    "    # Clean up motto (if it's a dictionary, extract relevant information)\n",
    "    if motto.startswith(\"{\"):\n",
    "        motto = re.sub(r\"key=\\\"(.*?)\\\".*?value=\\\"(.*?)\\\".*?\", r\"\\2\", motto)\n",
    "\n",
    "    rows.append({\n",
    "        \"Dynasty ID\": int(dynasty_id),\n",
    "        \"Name\": name,\n",
    "        \"Found Date\": found_date,\n",
    "        \"Dynasty\": int(dynasty),\n",
    "        \"Motto\": motto.strip(\"\\\"{}\")\n",
    "    })\n",
    "\n",
    "# Step 3: Create the DataFrame\n",
    "df = pd.DataFrame(rows)\n",
    "\n",
    "# Display the DataFrame\n",
    "print(df)"
   ]
  },
  {
   "cell_type": "code",
   "execution_count": null,
   "metadata": {},
   "outputs": [],
   "source": []
  },
  {
   "cell_type": "code",
   "execution_count": 20,
   "metadata": {},
   "outputs": [
    {
     "ename": "JSONDecodeError",
     "evalue": "Expecting ',' delimiter: line 1 column 1781 (char 1780)",
     "output_type": "error",
     "traceback": [
      "\u001b[1;31m---------------------------------------------------------------------------\u001b[0m",
      "\u001b[1;31mJSONDecodeError\u001b[0m                           Traceback (most recent call last)",
      "Cell \u001b[1;32mIn[20], line 2\u001b[0m\n\u001b[0;32m      1\u001b[0m \u001b[38;5;28;01mimport\u001b[39;00m \u001b[38;5;21;01mjson\u001b[39;00m\n\u001b[1;32m----> 2\u001b[0m json_data \u001b[38;5;241m=\u001b[39m \u001b[43mjson\u001b[49m\u001b[38;5;241;43m.\u001b[39;49m\u001b[43mloads\u001b[49m\u001b[43m(\u001b[49m\u001b[43mdata2\u001b[49m\u001b[43m,\u001b[49m\u001b[43m \u001b[49m\u001b[43mobject_pairs_hook\u001b[49m\u001b[38;5;241;43m=\u001b[39;49m\u001b[43m_handle_duplicates\u001b[49m\u001b[43m)\u001b[49m\n",
      "File \u001b[1;32mc:\\Users\\linog\\AppData\\Local\\Programs\\Python\\Python313\\Lib\\json\\__init__.py:359\u001b[0m, in \u001b[0;36mloads\u001b[1;34m(s, cls, object_hook, parse_float, parse_int, parse_constant, object_pairs_hook, **kw)\u001b[0m\n\u001b[0;32m    357\u001b[0m \u001b[38;5;28;01mif\u001b[39;00m parse_constant \u001b[38;5;129;01mis\u001b[39;00m \u001b[38;5;129;01mnot\u001b[39;00m \u001b[38;5;28;01mNone\u001b[39;00m:\n\u001b[0;32m    358\u001b[0m     kw[\u001b[38;5;124m'\u001b[39m\u001b[38;5;124mparse_constant\u001b[39m\u001b[38;5;124m'\u001b[39m] \u001b[38;5;241m=\u001b[39m parse_constant\n\u001b[1;32m--> 359\u001b[0m \u001b[38;5;28;01mreturn\u001b[39;00m \u001b[38;5;28;43mcls\u001b[39;49m\u001b[43m(\u001b[49m\u001b[38;5;241;43m*\u001b[39;49m\u001b[38;5;241;43m*\u001b[39;49m\u001b[43mkw\u001b[49m\u001b[43m)\u001b[49m\u001b[38;5;241;43m.\u001b[39;49m\u001b[43mdecode\u001b[49m\u001b[43m(\u001b[49m\u001b[43ms\u001b[49m\u001b[43m)\u001b[49m\n",
      "File \u001b[1;32mc:\\Users\\linog\\AppData\\Local\\Programs\\Python\\Python313\\Lib\\json\\decoder.py:345\u001b[0m, in \u001b[0;36mJSONDecoder.decode\u001b[1;34m(self, s, _w)\u001b[0m\n\u001b[0;32m    340\u001b[0m \u001b[38;5;28;01mdef\u001b[39;00m \u001b[38;5;21mdecode\u001b[39m(\u001b[38;5;28mself\u001b[39m, s, _w\u001b[38;5;241m=\u001b[39mWHITESPACE\u001b[38;5;241m.\u001b[39mmatch):\n\u001b[0;32m    341\u001b[0m \u001b[38;5;250m    \u001b[39m\u001b[38;5;124;03m\"\"\"Return the Python representation of ``s`` (a ``str`` instance\u001b[39;00m\n\u001b[0;32m    342\u001b[0m \u001b[38;5;124;03m    containing a JSON document).\u001b[39;00m\n\u001b[0;32m    343\u001b[0m \n\u001b[0;32m    344\u001b[0m \u001b[38;5;124;03m    \"\"\"\u001b[39;00m\n\u001b[1;32m--> 345\u001b[0m     obj, end \u001b[38;5;241m=\u001b[39m \u001b[38;5;28;43mself\u001b[39;49m\u001b[38;5;241;43m.\u001b[39;49m\u001b[43mraw_decode\u001b[49m\u001b[43m(\u001b[49m\u001b[43ms\u001b[49m\u001b[43m,\u001b[49m\u001b[43m \u001b[49m\u001b[43midx\u001b[49m\u001b[38;5;241;43m=\u001b[39;49m\u001b[43m_w\u001b[49m\u001b[43m(\u001b[49m\u001b[43ms\u001b[49m\u001b[43m,\u001b[49m\u001b[43m \u001b[49m\u001b[38;5;241;43m0\u001b[39;49m\u001b[43m)\u001b[49m\u001b[38;5;241;43m.\u001b[39;49m\u001b[43mend\u001b[49m\u001b[43m(\u001b[49m\u001b[43m)\u001b[49m\u001b[43m)\u001b[49m\n\u001b[0;32m    346\u001b[0m     end \u001b[38;5;241m=\u001b[39m _w(s, end)\u001b[38;5;241m.\u001b[39mend()\n\u001b[0;32m    347\u001b[0m     \u001b[38;5;28;01mif\u001b[39;00m end \u001b[38;5;241m!=\u001b[39m \u001b[38;5;28mlen\u001b[39m(s):\n",
      "File \u001b[1;32mc:\\Users\\linog\\AppData\\Local\\Programs\\Python\\Python313\\Lib\\json\\decoder.py:361\u001b[0m, in \u001b[0;36mJSONDecoder.raw_decode\u001b[1;34m(self, s, idx)\u001b[0m\n\u001b[0;32m    352\u001b[0m \u001b[38;5;250m\u001b[39m\u001b[38;5;124;03m\"\"\"Decode a JSON document from ``s`` (a ``str`` beginning with\u001b[39;00m\n\u001b[0;32m    353\u001b[0m \u001b[38;5;124;03ma JSON document) and return a 2-tuple of the Python\u001b[39;00m\n\u001b[0;32m    354\u001b[0m \u001b[38;5;124;03mrepresentation and the index in ``s`` where the document ended.\u001b[39;00m\n\u001b[1;32m   (...)\u001b[0m\n\u001b[0;32m    358\u001b[0m \n\u001b[0;32m    359\u001b[0m \u001b[38;5;124;03m\"\"\"\u001b[39;00m\n\u001b[0;32m    360\u001b[0m \u001b[38;5;28;01mtry\u001b[39;00m:\n\u001b[1;32m--> 361\u001b[0m     obj, end \u001b[38;5;241m=\u001b[39m \u001b[38;5;28;43mself\u001b[39;49m\u001b[38;5;241;43m.\u001b[39;49m\u001b[43mscan_once\u001b[49m\u001b[43m(\u001b[49m\u001b[43ms\u001b[49m\u001b[43m,\u001b[49m\u001b[43m \u001b[49m\u001b[43midx\u001b[49m\u001b[43m)\u001b[49m\n\u001b[0;32m    362\u001b[0m \u001b[38;5;28;01mexcept\u001b[39;00m \u001b[38;5;167;01mStopIteration\u001b[39;00m \u001b[38;5;28;01mas\u001b[39;00m err:\n\u001b[0;32m    363\u001b[0m     \u001b[38;5;28;01mraise\u001b[39;00m JSONDecodeError(\u001b[38;5;124m\"\u001b[39m\u001b[38;5;124mExpecting value\u001b[39m\u001b[38;5;124m\"\u001b[39m, s, err\u001b[38;5;241m.\u001b[39mvalue) \u001b[38;5;28;01mfrom\u001b[39;00m \u001b[38;5;28;01mNone\u001b[39;00m\n",
      "\u001b[1;31mJSONDecodeError\u001b[0m: Expecting ',' delimiter: line 1 column 1781 (char 1780)"
     ]
    }
   ],
   "source": [
    "import json\n",
    "json_data = json.loads(data2, object_pairs_hook=_handle_duplicates)"
   ]
  }
 ],
 "metadata": {
  "kernelspec": {
   "display_name": ".venv",
   "language": "python",
   "name": "python3"
  },
  "language_info": {
   "codemirror_mode": {
    "name": "ipython",
    "version": 3
   },
   "file_extension": ".py",
   "mimetype": "text/x-python",
   "name": "python",
   "nbconvert_exporter": "python",
   "pygments_lexer": "ipython3",
   "version": "3.13.1"
  }
 },
 "nbformat": 4,
 "nbformat_minor": 2
}
