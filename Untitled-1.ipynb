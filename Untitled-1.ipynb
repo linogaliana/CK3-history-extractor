{
 "cells": [
  {
   "cell_type": "code",
   "execution_count": 1,
   "metadata": {},
   "outputs": [
    {
     "name": "stderr",
     "output_type": "stream",
     "text": [
      "\u001b[32m2024-12-23 12:51:28.573\u001b[0m | \u001b[1mINFO    \u001b[0m | \u001b[36m__main__\u001b[0m:\u001b[36m<module>\u001b[0m:\u001b[36m25\u001b[0m - \u001b[1mUsing save file: c:\\Users\\linog\\AppData\\Roaming\\jupyter\\runtime\\kernel-v39343dc6b3438257a8e9e7fddfa402444915d64c3.json\u001b[0m\n"
     ]
    },
    {
     "name": "stderr",
     "output_type": "stream",
     "text": [
      "\u001b[32m2024-12-23 12:51:30.523\u001b[0m | \u001b[1mINFO    \u001b[0m | \u001b[36m__main__\u001b[0m:\u001b[36mimport_file\u001b[0m:\u001b[36m44\u001b[0m - \u001b[1mFile length: 340 381 637 characters (20 322 233 lines)\u001b[0m\n",
      "\u001b[32m2024-12-23 12:51:30.524\u001b[0m | \u001b[1mINFO    \u001b[0m | \u001b[36m__main__\u001b[0m:\u001b[36mimport_file\u001b[0m:\u001b[36m54\u001b[0m - \u001b[1mReading time: 1.95 seconds\u001b[0m\n"
     ]
    }
   ],
   "source": [
    "import time\n",
    "import re\n",
    "import argparse\n",
    "from loguru import logger\n",
    "\n",
    "\n",
    "# APPLICATION PARAMETERS ----------------------------\n",
    "\n",
    "# Set up argument parser\n",
    "parser = argparse.ArgumentParser(description=\"Process a CK3 save file.\")\n",
    "parser.add_argument(\n",
    "    \"--filename\",\n",
    "    nargs=\"?\",\n",
    "    default=\"data/latest/gamestate.ck3\",\n",
    "    help=\"Name of the readable CK3 save file\",\n",
    ")\n",
    "\n",
    "\n",
    "# Parse arguments\n",
    "args = parser.parse_args()\n",
    "\n",
    "# Use the filename from arguments\n",
    "filename = args.filename\n",
    "\n",
    "logger.info(f\"Using save file: {filename}\")\n",
    "\n",
    "\n",
    "\n",
    "# FUNCTION ----------------------------\n",
    "\n",
    "def import_file(filename: str) -> str:\n",
    "    \"\"\"Import a CK3 save file.\"\"\"\n",
    "\n",
    "    start_time = time.time()\n",
    "\n",
    "    with open(filename, \"r\", encoding=\"utf-8\") as myfile:\n",
    "        data = myfile.read()\n",
    "\n",
    "        # Calculate file length and number of lines\n",
    "        file_length = len(data)\n",
    "        line_count = len(data.split(\"\\n\"))\n",
    "\n",
    "        # Log formatted output with spaces as thousand separators\n",
    "        logger.info(\n",
    "            f\"File length: {file_length:,}\".replace(\",\", \" \")\n",
    "            + f\" characters ({line_count:,}\".replace(\",\", \" \")\n",
    "            + \" lines)\"\n",
    "        )\n",
    "\n",
    "    end_time = time.time()\n",
    "    reading_time = end_time - start_time\n",
    "\n",
    "    # Log the reading time\n",
    "    logger.info(f\"Reading time: {reading_time:.2f} seconds\")\n",
    "\n",
    "    return data\n",
    "\n",
    "\n",
    "# FUNCTION ----------------------------\n",
    "\n",
    "data = import_file(\"data/latest/gamestate.ck3\")\n",
    "charachterhistory = re.findall(r'played_character={.+?\\n}', data, re.S)"
   ]
  },
  {
   "cell_type": "code",
   "execution_count": 2,
   "metadata": {},
   "outputs": [
    {
     "name": "stderr",
     "output_type": "stream",
     "text": [
      "\u001b[32m2024-12-23 12:51:38.761\u001b[0m | \u001b[1mINFO    \u001b[0m | \u001b[36m__main__\u001b[0m:\u001b[36m<module>\u001b[0m:\u001b[36m24\u001b[0m - \u001b[1mPlayed characters history extracted (12 characters)\u001b[0m\n"
     ]
    }
   ],
   "source": [
    "import pandas as pd\n",
    "from src.utils.utils import combine_dicts\n",
    "from src.structures.character import retrieve_character_info\n",
    "\n",
    "played_characters = re.findall(r'character=(\\d+)', charachterhistory[0])\n",
    "\n",
    "history_played_characters = [\n",
    "    retrieve_character_info(id, data) for id in played_characters\n",
    "]\n",
    "combined_dict = combine_dicts(history_played_characters)\n",
    "\n",
    "history_played_characters = pd.DataFrame(combined_dict)\n",
    "\n",
    "# Reorder columns\n",
    "first_columns = ['id', 'name', 'nickname', 'birth', 'death_date', 'dynasty', 'faith', 'culture', 'domain_at_death']\n",
    "other_columns = [col for col in history_played_characters.columns if col not in first_columns]\n",
    "history_played_characters = history_played_characters.loc[:, first_columns + other_columns]\n",
    "history_played_characters = history_played_characters.drop_duplicates(subset=['id'])\n",
    "\n",
    "# convert to datetime some columns\n",
    "history_played_characters = history_played_characters.sort_values(by='birth')\n",
    "\n",
    "\n",
    "logger.info(f\"Played characters history extracted ({history_played_characters.shape[0]} characters)\")"
   ]
  },
  {
   "cell_type": "code",
   "execution_count": 3,
   "metadata": {},
   "outputs": [
    {
     "data": {
      "text/html": [
       "<div>\n",
       "<style scoped>\n",
       "    .dataframe tbody tr th:only-of-type {\n",
       "        vertical-align: middle;\n",
       "    }\n",
       "\n",
       "    .dataframe tbody tr th {\n",
       "        vertical-align: top;\n",
       "    }\n",
       "\n",
       "    .dataframe thead th {\n",
       "        text-align: right;\n",
       "    }\n",
       "</style>\n",
       "<table border=\"1\" class=\"dataframe\">\n",
       "  <thead>\n",
       "    <tr style=\"text-align: right;\">\n",
       "      <th></th>\n",
       "      <th>id</th>\n",
       "      <th>name</th>\n",
       "      <th>nickname</th>\n",
       "      <th>birth</th>\n",
       "      <th>death_date</th>\n",
       "      <th>dynasty</th>\n",
       "      <th>faith</th>\n",
       "      <th>culture</th>\n",
       "      <th>domain_at_death</th>\n",
       "      <th>liege_title_at_death</th>\n",
       "      <th>traits</th>\n",
       "      <th>liege_at_death</th>\n",
       "      <th>skills</th>\n",
       "      <th>recessive_traits</th>\n",
       "      <th>death_reason</th>\n",
       "    </tr>\n",
       "  </thead>\n",
       "  <tbody>\n",
       "    <tr>\n",
       "      <th>1</th>\n",
       "      <td>18102</td>\n",
       "      <td>Murchad</td>\n",
       "      <td>l’Ancien</td>\n",
       "      <td>1027-01-01 00:00:00</td>\n",
       "      <td>1099-06-25 00:00:00</td>\n",
       "      <td>5117</td>\n",
       "      <td>Unknown</td>\n",
       "      <td>Unknown</td>\n",
       "      <td>446, 447, 503, 504, 509, 516, 505, 510, 507, 517</td>\n",
       "      <td>446</td>\n",
       "      <td>50, 66, 58, 7, 26, 244, 92, 129</td>\n",
       "      <td>18102</td>\n",
       "      <td>10, 12, 6, 3, 3, 12</td>\n",
       "      <td>None</td>\n",
       "      <td>death_old_age</td>\n",
       "    </tr>\n",
       "  </tbody>\n",
       "</table>\n",
       "</div>"
      ],
      "text/plain": [
       "      id     name  nickname                birth           death_date dynasty  \\\n",
       "1  18102  Murchad  l’Ancien  1027-01-01 00:00:00  1099-06-25 00:00:00    5117   \n",
       "\n",
       "     faith  culture                                   domain_at_death  \\\n",
       "1  Unknown  Unknown  446, 447, 503, 504, 509, 516, 505, 510, 507, 517   \n",
       "\n",
       "  liege_title_at_death                           traits liege_at_death  \\\n",
       "1                  446  50, 66, 58, 7, 26, 244, 92, 129          18102   \n",
       "\n",
       "                skills recessive_traits   death_reason  \n",
       "1  10, 12, 6, 3, 3, 12             None  death_old_age  "
      ]
     },
     "execution_count": 3,
     "metadata": {},
     "output_type": "execute_result"
    }
   ],
   "source": [
    "history_played_characters.head(1)"
   ]
  },
  {
   "cell_type": "code",
   "execution_count": 12,
   "metadata": {},
   "outputs": [
    {
     "name": "stdout",
     "output_type": "stream",
     "text": [
      "446\n",
      "447\n",
      "503\n",
      "504\n",
      "509\n",
      "516\n",
      "505\n",
      "510\n",
      "507\n",
      "517\n",
      "448\n",
      "454\n",
      "449\n",
      "451\n",
      "520\n",
      "508\n",
      "455\n",
      "456\n",
      "458\n",
      "459\n",
      "464\n",
      "470\n",
      "512\n",
      "460\n",
      "461\n",
      "462\n",
      "465\n",
      "466\n",
      "467\n",
      "471\n",
      "472\n",
      "473\n",
      "513\n",
      "514\n",
      "307\n",
      "290\n",
      "322\n",
      "293\n",
      "308\n",
      "319\n",
      "291\n",
      "323\n",
      "324\n",
      "294\n",
      "309\n",
      "320\n",
      "289\n",
      "296\n",
      "297\n",
      "298\n",
      "1383\n",
      "288\n",
      "175\n",
      "1385\n",
      "1386\n",
      "1388\n",
      "336\n",
      "151\n",
      "493\n",
      "158\n",
      "176\n",
      "346\n",
      "494\n",
      "496\n",
      "497\n",
      "159\n",
      "160\n",
      "177\n",
      "178\n",
      "347\n",
      "348\n",
      "93\n",
      "2165\n",
      "2078\n",
      "94\n",
      "2327\n",
      "2169\n",
      "2360\n",
      "2378\n",
      "2368\n",
      "2218\n",
      "2244\n",
      "2201\n",
      "2213\n",
      "2369\n",
      "2370\n",
      "2219\n",
      "2245\n",
      "2202\n",
      "2246\n",
      "2204\n",
      "2214\n",
      "2155\n",
      "7186\n",
      "2297\n",
      "7161\n",
      "6793\n",
      "2379\n",
      "6794\n",
      "6982\n",
      "6990\n",
      "7163\n",
      "6801\n",
      "6978\n",
      "2380\n",
      "2382\n",
      "2383\n",
      "2384\n",
      "2385\n",
      "6795\n",
      "6796\n",
      "6800\n",
      "6983\n",
      "6991\n",
      "6984\n",
      "7164\n",
      "7165\n",
      "6802\n",
      "6979\n",
      "6980\n",
      "6805\n",
      "6792\n",
      "2209\n",
      "6810\n",
      "2210\n",
      "2212\n",
      "6811\n",
      "6813\n",
      "6791\n",
      "91\n",
      "2619\n",
      "1289\n",
      "7870\n",
      "672\n",
      "614\n",
      "793\n",
      "983\n",
      "11\n",
      "7101\n",
      "7116\n",
      "2627\n",
      "698\n",
      "711\n",
      "7102\n",
      "7103\n",
      "7117\n",
      "7119\n",
      "2628\n",
      "2630\n",
      "699\n",
      "700\n",
      "712\n",
      "716\n",
      "None\n"
     ]
    },
    {
     "ename": "IndexError",
     "evalue": "list index out of range",
     "output_type": "error",
     "traceback": [
      "\u001b[1;31m---------------------------------------------------------------------------\u001b[0m",
      "\u001b[1;31mIndexError\u001b[0m                                Traceback (most recent call last)",
      "Cell \u001b[1;32mIn[12], line 8\u001b[0m\n\u001b[0;32m      6\u001b[0m \u001b[38;5;28;01mfor\u001b[39;00m titleid \u001b[38;5;129;01min\u001b[39;00m all_titles_history:\n\u001b[0;32m      7\u001b[0m     \u001b[38;5;28mprint\u001b[39m(titleid)\n\u001b[1;32m----> 8\u001b[0m     \u001b[43mget_title_name\u001b[49m\u001b[43m(\u001b[49m\u001b[43mtitleid\u001b[49m\u001b[43m,\u001b[49m\u001b[43m \u001b[49m\u001b[43mdata\u001b[49m\u001b[43m)\u001b[49m\n",
      "File \u001b[1;32mc:\\Users\\linog\\Documents\\PROJECTS\\CK3-history-extractor\\src\\structures\\title.py:38\u001b[0m, in \u001b[0;36mget_title_name\u001b[1;34m(title_id, data)\u001b[0m\n\u001b[0;32m     19\u001b[0m \u001b[38;5;250m\u001b[39m\u001b[38;5;124;03m\"\"\"\u001b[39;00m\n\u001b[0;32m     20\u001b[0m \u001b[38;5;124;03mExtracts and returns the name of a title given its ID and the raw data.\u001b[39;00m\n\u001b[0;32m     21\u001b[0m \n\u001b[1;32m   (...)\u001b[0m\n\u001b[0;32m     35\u001b[0m \u001b[38;5;124;03m    'Kingdom of France'\u001b[39;00m\n\u001b[0;32m     36\u001b[0m \u001b[38;5;124;03m\"\"\"\u001b[39;00m\n\u001b[0;32m     37\u001b[0m \u001b[38;5;66;03m# Find the raw data for the given title ID\u001b[39;00m\n\u001b[1;32m---> 38\u001b[0m raw_data \u001b[38;5;241m=\u001b[39m \u001b[43mfind_title_data\u001b[49m\u001b[43m(\u001b[49m\u001b[43mtitle_id\u001b[49m\u001b[43m,\u001b[49m\u001b[43m \u001b[49m\u001b[43mdata\u001b[49m\u001b[43m)\u001b[49m\n\u001b[0;32m     40\u001b[0m \u001b[38;5;66;03m# Extract the key and name from the raw data\u001b[39;00m\n\u001b[0;32m     41\u001b[0m find_key \u001b[38;5;241m=\u001b[39m re\u001b[38;5;241m.\u001b[39mfindall(\u001b[38;5;124mr\u001b[39m\u001b[38;5;124m'\u001b[39m\u001b[38;5;124mkey=(.*?)\u001b[39m\u001b[38;5;124m\\\u001b[39m\u001b[38;5;124mn\u001b[39m\u001b[38;5;124m'\u001b[39m, raw_data, re\u001b[38;5;241m.\u001b[39mS)[\u001b[38;5;241m0\u001b[39m]\n",
      "File \u001b[1;32mc:\\Users\\linog\\Documents\\PROJECTS\\CK3-history-extractor\\src\\structures\\title.py:7\u001b[0m, in \u001b[0;36mfind_title_data\u001b[1;34m(title_id, data)\u001b[0m\n\u001b[0;32m      5\u001b[0m \u001b[38;5;28;01mdef\u001b[39;00m \u001b[38;5;21mfind_title_data\u001b[39m(title_id: \u001b[38;5;28mstr\u001b[39m, data: \u001b[38;5;28mstr\u001b[39m) \u001b[38;5;241m-\u001b[39m\u001b[38;5;241m>\u001b[39m \u001b[38;5;28mstr\u001b[39m:\n\u001b[0;32m      6\u001b[0m     title_data \u001b[38;5;241m=\u001b[39m re\u001b[38;5;241m.\u001b[39mfindall(\u001b[38;5;124mr\u001b[39m\u001b[38;5;124m'\u001b[39m\u001b[38;5;124m\\\u001b[39m\u001b[38;5;124mn\u001b[39m\u001b[38;5;132;01m%s\u001b[39;00m\u001b[38;5;124m=\u001b[39m\u001b[38;5;124m{\u001b[39m\u001b[38;5;124m.+?\u001b[39m\u001b[38;5;124m\\\u001b[39m\u001b[38;5;124mn}\u001b[39m\u001b[38;5;124m'\u001b[39m \u001b[38;5;241m%\u001b[39m title_id, data, re\u001b[38;5;241m.\u001b[39mS)\n\u001b[1;32m----> 7\u001b[0m     \u001b[38;5;28;01mreturn\u001b[39;00m \u001b[43mtitle_data\u001b[49m\u001b[43m[\u001b[49m\u001b[38;5;241;43m0\u001b[39;49m\u001b[43m]\u001b[49m\n",
      "\u001b[1;31mIndexError\u001b[0m: list index out of range"
     ]
    }
   ],
   "source": [
    "from src.structures.title import get_title_name\n",
    "titleid = 446\n",
    "\n",
    "all_titles_history = history_played_characters[\"domain_at_death\"].str.split(\", \").explode().unique()\n",
    "\n",
    "title_table = [get_title_name(titleid, data) for titleid in all_titles_history]\n",
    "title_table"
   ]
  },
  {
   "cell_type": "code",
   "execution_count": 32,
   "metadata": {},
   "outputs": [
    {
     "data": {
      "text/plain": [
       "['\\n446={\\n\\tkey=k_ireland\\n\\tde_facto_liege=93\\n\\tde_jure_liege=93\\n\\tde_jure_vassals={ 447 458 475 492 503 }\\n\\tholder=134298987\\n\\tname=\"Irlande\"\\n\\tadj=\"irlandaise\"\\n\\tpre=\"Hiberno\"\\n\\tdate=1422.9.27\\n\\their={ 240930 255826 256739 244264 33775851 240345 253993 17014337 247617 17013801 33769335 84070687 239267 17026288 250238 246535 33719912 16913508 16996098 17027537 }\\n\\tclaim={ 84070687 33719912 16996098 231863 231661 16992654 16991075 239538 }\\n\\thistory={ 846.1.1=6987 862.11.22={\\n\\t\\t\\ttype=destroyed\\n\\t\\t}\\n 980.3.23=13373 1002.1.1=13130 1015.3.23=13373 1022.9.2={\\n\\t\\t\\ttype=destroyed\\n\\t\\t}\\n 1075.1.16={\\n\\t\\t\\ttype=created\\n\\t\\t\\tholder=18102\\n\\t\\t}\\n 1099.6.25=41521 1135.11.9=33588078 1165.1.1=16801873 1201.5.24=67141529 1207.2.10=50404874 1239.5.18=50426903 1278.10.7=33672894 1317.12.24=165529 1362.10.2=16961161 1381.2.12=33739479 1422.9.27=134298987 }\\n\\tcapital=493\\n\\tcoat_of_arms_id=178\\n\\tdate_defeated_last_ai_raider=1092.2.17\\n}',\n",
       " '\\n446={\\n\\tname=\"dynn_Ocra\"\\n\\tprefix=\"dynnp_di\"\\n\\tfound_date=9999.1.1\\n\\tdynasty=446\\n\\tmotto=\"\"\\n}',\n",
       " '\\n446={\\n\\tkey=8712\\n}',\n",
       " '\\n446={\\n\\tfirst_name=\"Gwawl\"\\n\\tbirth=359.1.1\\n\\tfemale=yes\\n\\tnickname_text=\"\"\\n\\tethnicity=caucasian_brown_hair\\n\\tculture=24\\n\\tfaith=10\\n\\tdynasty_house=2392\\n\\tskill={ 10 3 7 4 8 6 }\\n\\tmass=19\\n\\ttraits={ 54 59 65 11 }\\n\\tfamily_data={\\n\\t\\tprimary_spouse=436\\n\\t\\tspouse=436\\n\\t\\tformer_spouses={ 436 }\\n\\t\\tchild={ 562 573 }\\n\\t}\\n\\n\\tdead_data={\\n\\t\\tdate=430.1.1\\n\\t}\\n\\n}',\n",
       " '\\n446={\\n\\tpattern=\"pattern_solid.dds\"\\n\\tcolor1=blue\\n\\tcolor2=white\\n\\tcolored_emblem={\\n\\t\\tcolor1=white\\n\\t\\tcolor2=white\\n\\t\\ttexture=\"ce_ordinary_cross_thin.dds\"\\n\\t}\\n\\n\\tcolored_emblem={\\n\\t\\tcolor1=yellow\\n\\t\\tcolor2=yellow\\n\\t\\ttexture=\"ce_fleur.dds\"\\n\\t\\tinstance={\\n\\t\\t\\tposition={ 0.735000 0.220000 }\\n\\t\\t\\tscale={ 0.400000 0.400000 }\\n\\t\\t}\\n\\n\\t\\tinstance={\\n\\t\\t\\tposition={ 0.265000 0.220000 }\\n\\t\\t\\tscale={ 0.400000 0.400000 }\\n\\t\\t}\\n\\n\\t\\tinstance={\\n\\t\\t\\tposition={ 0.265000 0.715000 }\\n\\t\\t\\tscale={ 0.320000 0.320000 }\\n\\t\\t}\\n\\n\\t\\tinstance={\\n\\t\\t\\tposition={ 0.735000 0.715000 }\\n\\t\\t\\tscale={ 0.320000 0.320000 }\\n\\t\\t}\\n\\n\\t}\\n\\n}']"
      ]
     },
     "execution_count": 32,
     "metadata": {},
     "output_type": "execute_result"
    }
   ],
   "source": [
    "re.findall(r'\\n%s={.+?\\n}' % titleid, data, re.S)"
   ]
  },
  {
   "cell_type": "code",
   "execution_count": 35,
   "metadata": {},
   "outputs": [
    {
     "data": {
      "text/plain": [
       "'\\\\n446={{.+?\\\\n}}'"
      ]
     },
     "execution_count": 35,
     "metadata": {},
     "output_type": "execute_result"
    }
   ],
   "source": [
    "regex"
   ]
  },
  {
   "cell_type": "code",
   "execution_count": 34,
   "metadata": {},
   "outputs": [
    {
     "data": {
      "text/plain": [
       "'\\\\n446={.+?\\\\n}'"
      ]
     },
     "execution_count": 34,
     "metadata": {},
     "output_type": "execute_result"
    }
   ],
   "source": [
    "r'\\n%s={.+?\\n}' % titleid"
   ]
  },
  {
   "cell_type": "code",
   "execution_count": 28,
   "metadata": {},
   "outputs": [
    {
     "data": {
      "text/plain": [
       "{'house': 'British isles briain',\n",
       " 'foundation_date': datetime.datetime(978, 1, 1, 0, 0),\n",
       " 'parent_dynasty': '2045',\n",
       " 'dynasty_head': '134298987',\n",
       " 'historical_leaders': '13130 14191 14419 15475 18102 41521 33588078 16801873 67141529 50404874 50426903 33672894 165529 16961161 33739479 134298987'}"
      ]
     },
     "execution_count": 28,
     "metadata": {},
     "output_type": "execute_result"
    }
   ],
   "source": [
    "from src.utils.utils import trim_string_ck3, convert_ck3_date\n",
    "\n",
    "dynid = 5117\n",
    "\n",
    "def extract_dynasty_info(dynasty_id: int, data: str) -> dict:\n",
    "    \"\"\"Extract dynasty information given a dynasty ID.\"\"\"\n",
    "\n",
    "    regex_number_dynasty = fr'\\n{dynasty_id}=' + r'{\\n\\t.+?\\n}'\n",
    "    house_data = re.findall(regex_number_dynasty, data, re.S)\n",
    "    raw_data = [line for line in house_data if 'dynasty=' in line][0]\n",
    "\n",
    "    dynasty_data = extract_characteristics(raw_data)\n",
    "    return dynasty_data\n",
    "\n",
    "\n",
    "def extract_characteristics(raw_data: str) -> dict:\n",
    "    \"\"\"Extract characteristics from raw dynasty data.\"\"\"\n",
    "    pattern = re.compile(r'key=([^\\s]+)')\n",
    "    house = trim_string_ck3(pattern.findall(raw_data)[0])\n",
    "    try:\n",
    "        foundation_date = convert_ck3_date(re.findall(r'found_date=(.*?)\\n', raw_data, re.S)[0])\n",
    "    except IndexError:\n",
    "        foundation_date = \"Time immemorial...\"\n",
    "\n",
    "    parent_dynasty = re.findall(r'\\tdynasty=(.*?)\\n', raw_data, re.S)[0]\n",
    "    dynasty_head = re.findall(r'head_of_house=(.*?)\\n', raw_data, re.S)[0]\n",
    "    historical_leaders = re.findall(r'historical={(.*?)}', raw_data, re.S)[0].strip()\n",
    "\n",
    "    return {\n",
    "        \"house\": house,\n",
    "        \"foundation_date\": foundation_date,\n",
    "        \"parent_dynasty\": parent_dynasty,\n",
    "        \"dynasty_head\": dynasty_head,\n",
    "        \"historical_leaders\": historical_leaders,\n",
    "    }\n",
    "\n",
    "dynasty_info = extract_dynasty_info(dynid, data)\n"
   ]
  },
  {
   "cell_type": "code",
   "execution_count": 26,
   "metadata": {},
   "outputs": [
    {
     "data": {
      "text/plain": [
       "re.compile(r'key=([^\\s]+)', re.UNICODE)"
      ]
     },
     "execution_count": 26,
     "metadata": {},
     "output_type": "execute_result"
    }
   ],
   "source": [
    "pattern"
   ]
  },
  {
   "cell_type": "code",
   "execution_count": 28,
   "metadata": {},
   "outputs": [
    {
     "data": {
      "text/plain": [
       "datetime.datetime(978, 1, 1, 0, 0)"
      ]
     },
     "execution_count": 28,
     "metadata": {},
     "output_type": "execute_result"
    }
   ],
   "source": [
    "import pandas as pd\n",
    "from datetime import datetime\n",
    "\n",
    "def convert_ck3_date(date_str: str) -> pd.Timestamp:\n",
    "        # Split the date string into year, month, and day\n",
    "        parts = date_str.split('.')\n",
    "        if len(parts) != 3:\n",
    "            return None\n",
    "        \n",
    "        year, month, day = parts\n",
    "        \n",
    "        # Pad year, month, and day with leading zeros if necessary\n",
    "        year = year.zfill(4)\n",
    "        month = month.zfill(2)\n",
    "        day = day.zfill(2)\n",
    "        \n",
    "        # Construct the new date string\n",
    "        new_date_str = f\"{year}-{month}-{day}\"\n",
    "\n",
    "        # Convert to datetime\n",
    "        return datetime.strptime(new_date_str, '%Y-%m-%d')\n",
    "\n",
    "convert_ck3_date(\"978.1.1\")"
   ]
  },
  {
   "cell_type": "code",
   "execution_count": null,
   "metadata": {},
   "outputs": [],
   "source": [
    "\n",
    "            self.house = 'Lowborn'\n",
    "        if 'dead_data' in rawData:\n",
    "            self.dead = True\n",
    "            self.date = re.findall(r'date=(.*?)\\n', rawData, re.S)[0]\n",
    "            self.reason = gameStringToRead(re.findall(r'reason=\"(.*?)\"\\n', rawData, re.S)[0])\n",
    "            findLiege = re.findall(r'liege=(.*?)\\n', rawData, re.S)\n",
    "            if len(findLiege) > 0:\n",
    "                liege = findLiege[0]\n",
    "                if(liege != charid):\n",
    "                    self.liege = liege\n",
    "            findGovernment = re.findall(r'government=\"(.*?)\"', rawData, re.S)\n",
    "            if len(findGovernment) > 0:\n",
    "                self.government = findGovernment[0]\n",
    "                findDomain = re.findall(r'domain={(.*?)}', rawData, re.S)\n",
    "                titleList = findDomain[0].split(' ')[1:-1]\n",
    "                self.titles = []\n",
    "                for title in titleList:\n",
    "                    if title in knownTitles.keys():\n",
    "                        self.titles.append(knownTitles[title])\n",
    "                    else:\n",
    "                        self.titles.append(gTitle(title, allData, env, path))\n",
    "            else:\n",
    "                self.government = 'Unlanded'\n",
    "        else:\n",
    "            self.dead = False\n",
    "            #the char isnt dead we need to parse other stuff\n",
    "            findGold = re.findall(r'gold=(.*?)\\n', rawData, re.S)\n",
    "            self.gold = findGold[0]\n",
    "            findPiety = re.findall(r'accumulated=(.*?)\\n', rawData, re.S)\n",
    "            self.piety = findPiety[0]\n",
    "            self.prestige = findPiety[0]\n",
    "            findKills = re.findall(r'kills={(.*?)}', rawData, re.S)\n",
    "            if len(findKills) > 0 and limit > 0:\n",
    "                killList = findKills[0].split(' ')[1:-1]\n",
    "                self.kills = []\n",
    "                for dead in killList:\n",
    "                    if dead in knownChars.keys():\n",
    "                        self.kills.append(knownChars[dead])\n",
    "                    else:\n",
    "                        self.kills.append(gChar(dead, allData, env, path, limit - 1))\n",
    "            findLanguages = re.findall(r'languages={(.*?)}', rawData, re.S)\n",
    "            if len(findLanguages) > 0:\n",
    "                self.languages = []\n",
    "                for lang in findLanguages:\n",
    "                    self.languages.append(lang.replace('language_', ''))\n",
    "            findGovernment = re.findall(r'government=\"(.*?)\"', rawData, re.S)\n",
    "            if len(findGovernment) > 0:\n",
    "                self.government = findGovernment[0]\n",
    "                findDomain = re.findall(r'domain={(.*?)}', rawData, re.S)\n",
    "                titleList = findDomain[0].split(' ')[1:-1]\n",
    "                self.titles = []\n",
    "                for title in titleList:\n",
    "                    if title in knownTitles.keys():\n",
    "                        self.titles.append(knownTitles[title])\n",
    "                    else:\n",
    "                        self.titles.append(gTitle(title, allData, env, path))\n",
    "                findVassals = re.findall(r'vassal_contracts={(.*?)}', rawData, re.S)\n",
    "                if len(findVassals) > 0 and limit > 0:\n",
    "                    self.vassals = []\n",
    "                    for vassal in findVassals[0].split(' ')[1:-1]:\n",
    "                        try:\n",
    "                            vassalId = findVassal(vassal, allData)\n",
    "                            if vassalId in knownChars.keys():\n",
    "                                self.vassals.append(knownChars[vassalId])\n",
    "                            else:\n",
    "                                self.vassals.append(gChar(vassalId, allData, env, path, limit - 1))\n",
    "                        except:\n",
    "                            pass\n",
    "                findDread = re.findall(r'dread=(.*?)\\n', rawData, re.S)\n",
    "                if len(findDread):\n",
    "                    self.dread = findDread[0]\n",
    "                else:\n",
    "                    self.dread = 0\n",
    "                findStrength = re.findall(r'current_strength=(.*?)\\n', rawData, re.S)\n",
    "                if len(findStrength) > 0:\n",
    "                    self.strength = findStrength[0]\n",
    "                else:\n",
    "                    self.strength = 0\n",
    "            else:\n",
    "                self.government = 'Unlanded'\n",
    "            findMemories = re.findall(r'memories={(.*?)}', rawData, re.S)[0].split(' ')[1:-1]\n",
    "            if len(findMemories) > 0:\n",
    "                self.memories = []\n",
    "                for memory in findMemories:\n",
    "                    self.memories.append(gMem(memory, allData))\n",
    "        #save to global variable\n"
   ]
  },
  {
   "cell_type": "code",
   "execution_count": 5,
   "metadata": {},
   "outputs": [
    {
     "data": {
      "text/plain": [
       "'\\n0={\\n\\tkey=2\\n\\tprestige={\\n\\t\\tcurrency=781.9568\\n\\t\\taccumulated=2081.9568\\n\\t}\\n\\tcoat_of_arms_id=1324\\n\\tperk={ glory_legacy_1 glory_legacy_2 }\\n}'"
      ]
     },
     "execution_count": 5,
     "metadata": {},
     "output_type": "execute_result"
    }
   ],
   "source": [
    "findDynastyData(\"0\", data)"
   ]
  },
  {
   "cell_type": "code",
   "execution_count": null,
   "metadata": {},
   "outputs": [],
   "source": []
  },
  {
   "cell_type": "code",
   "execution_count": null,
   "metadata": {},
   "outputs": [],
   "source": [
    "import pandas as pd\n",
    "import re\n",
    "\n",
    "# Define the data (formatted as a string for demonstration purposes)\n",
    "# data = \"\"\"{your_nested_data_here}\"\"\"  # Replace with your actual nested data\n",
    "\n",
    "# Step 1: Preprocess the data\n",
    "# Convert the data to a Python dictionary-like structure by removing invalid syntax\n",
    "data_cleaned = re.sub(r\"\\n|\\t|\\s\", \"\", data)  # Remove unnecessary whitespace\n",
    "\n",
    "# Extract dynasty information using regex\n",
    "matches = re.findall(r\"(\\d+)={(.*?)name=\\\"(.*?)\\\".*?found_date=(\\d{1,4}\\.\\d{1,2}\\.\\d{1,2}).*?dynasty=(\\d+).*?motto=(\\{.*?\\}|\\\"\\\")\", data_cleaned)\n",
    "\n",
    "# Step 2: Transform into a list of dictionaries\n",
    "rows = []\n",
    "for match in matches:\n",
    "    dynasty_id, _, name, found_date, dynasty, motto = match\n",
    "\n",
    "    # Clean up motto (if it's a dictionary, extract relevant information)\n",
    "    if motto.startswith(\"{\"):\n",
    "        motto = re.sub(r\"key=\\\"(.*?)\\\".*?value=\\\"(.*?)\\\".*?\", r\"\\2\", motto)\n",
    "\n",
    "    rows.append({\n",
    "        \"Dynasty ID\": int(dynasty_id),\n",
    "        \"Name\": name,\n",
    "        \"Found Date\": found_date,\n",
    "        \"Dynasty\": int(dynasty),\n",
    "        \"Motto\": motto.strip(\"\\\"{}\")\n",
    "    })\n",
    "\n",
    "# Step 3: Create the DataFrame\n",
    "df = pd.DataFrame(rows)\n",
    "\n",
    "# Display the DataFrame\n",
    "print(df)"
   ]
  },
  {
   "cell_type": "code",
   "execution_count": null,
   "metadata": {},
   "outputs": [],
   "source": []
  },
  {
   "cell_type": "code",
   "execution_count": 20,
   "metadata": {},
   "outputs": [
    {
     "ename": "JSONDecodeError",
     "evalue": "Expecting ',' delimiter: line 1 column 1781 (char 1780)",
     "output_type": "error",
     "traceback": [
      "\u001b[1;31m---------------------------------------------------------------------------\u001b[0m",
      "\u001b[1;31mJSONDecodeError\u001b[0m                           Traceback (most recent call last)",
      "Cell \u001b[1;32mIn[20], line 2\u001b[0m\n\u001b[0;32m      1\u001b[0m \u001b[38;5;28;01mimport\u001b[39;00m \u001b[38;5;21;01mjson\u001b[39;00m\n\u001b[1;32m----> 2\u001b[0m json_data \u001b[38;5;241m=\u001b[39m \u001b[43mjson\u001b[49m\u001b[38;5;241;43m.\u001b[39;49m\u001b[43mloads\u001b[49m\u001b[43m(\u001b[49m\u001b[43mdata2\u001b[49m\u001b[43m,\u001b[49m\u001b[43m \u001b[49m\u001b[43mobject_pairs_hook\u001b[49m\u001b[38;5;241;43m=\u001b[39;49m\u001b[43m_handle_duplicates\u001b[49m\u001b[43m)\u001b[49m\n",
      "File \u001b[1;32mc:\\Users\\linog\\AppData\\Local\\Programs\\Python\\Python313\\Lib\\json\\__init__.py:359\u001b[0m, in \u001b[0;36mloads\u001b[1;34m(s, cls, object_hook, parse_float, parse_int, parse_constant, object_pairs_hook, **kw)\u001b[0m\n\u001b[0;32m    357\u001b[0m \u001b[38;5;28;01mif\u001b[39;00m parse_constant \u001b[38;5;129;01mis\u001b[39;00m \u001b[38;5;129;01mnot\u001b[39;00m \u001b[38;5;28;01mNone\u001b[39;00m:\n\u001b[0;32m    358\u001b[0m     kw[\u001b[38;5;124m'\u001b[39m\u001b[38;5;124mparse_constant\u001b[39m\u001b[38;5;124m'\u001b[39m] \u001b[38;5;241m=\u001b[39m parse_constant\n\u001b[1;32m--> 359\u001b[0m \u001b[38;5;28;01mreturn\u001b[39;00m \u001b[38;5;28;43mcls\u001b[39;49m\u001b[43m(\u001b[49m\u001b[38;5;241;43m*\u001b[39;49m\u001b[38;5;241;43m*\u001b[39;49m\u001b[43mkw\u001b[49m\u001b[43m)\u001b[49m\u001b[38;5;241;43m.\u001b[39;49m\u001b[43mdecode\u001b[49m\u001b[43m(\u001b[49m\u001b[43ms\u001b[49m\u001b[43m)\u001b[49m\n",
      "File \u001b[1;32mc:\\Users\\linog\\AppData\\Local\\Programs\\Python\\Python313\\Lib\\json\\decoder.py:345\u001b[0m, in \u001b[0;36mJSONDecoder.decode\u001b[1;34m(self, s, _w)\u001b[0m\n\u001b[0;32m    340\u001b[0m \u001b[38;5;28;01mdef\u001b[39;00m \u001b[38;5;21mdecode\u001b[39m(\u001b[38;5;28mself\u001b[39m, s, _w\u001b[38;5;241m=\u001b[39mWHITESPACE\u001b[38;5;241m.\u001b[39mmatch):\n\u001b[0;32m    341\u001b[0m \u001b[38;5;250m    \u001b[39m\u001b[38;5;124;03m\"\"\"Return the Python representation of ``s`` (a ``str`` instance\u001b[39;00m\n\u001b[0;32m    342\u001b[0m \u001b[38;5;124;03m    containing a JSON document).\u001b[39;00m\n\u001b[0;32m    343\u001b[0m \n\u001b[0;32m    344\u001b[0m \u001b[38;5;124;03m    \"\"\"\u001b[39;00m\n\u001b[1;32m--> 345\u001b[0m     obj, end \u001b[38;5;241m=\u001b[39m \u001b[38;5;28;43mself\u001b[39;49m\u001b[38;5;241;43m.\u001b[39;49m\u001b[43mraw_decode\u001b[49m\u001b[43m(\u001b[49m\u001b[43ms\u001b[49m\u001b[43m,\u001b[49m\u001b[43m \u001b[49m\u001b[43midx\u001b[49m\u001b[38;5;241;43m=\u001b[39;49m\u001b[43m_w\u001b[49m\u001b[43m(\u001b[49m\u001b[43ms\u001b[49m\u001b[43m,\u001b[49m\u001b[43m \u001b[49m\u001b[38;5;241;43m0\u001b[39;49m\u001b[43m)\u001b[49m\u001b[38;5;241;43m.\u001b[39;49m\u001b[43mend\u001b[49m\u001b[43m(\u001b[49m\u001b[43m)\u001b[49m\u001b[43m)\u001b[49m\n\u001b[0;32m    346\u001b[0m     end \u001b[38;5;241m=\u001b[39m _w(s, end)\u001b[38;5;241m.\u001b[39mend()\n\u001b[0;32m    347\u001b[0m     \u001b[38;5;28;01mif\u001b[39;00m end \u001b[38;5;241m!=\u001b[39m \u001b[38;5;28mlen\u001b[39m(s):\n",
      "File \u001b[1;32mc:\\Users\\linog\\AppData\\Local\\Programs\\Python\\Python313\\Lib\\json\\decoder.py:361\u001b[0m, in \u001b[0;36mJSONDecoder.raw_decode\u001b[1;34m(self, s, idx)\u001b[0m\n\u001b[0;32m    352\u001b[0m \u001b[38;5;250m\u001b[39m\u001b[38;5;124;03m\"\"\"Decode a JSON document from ``s`` (a ``str`` beginning with\u001b[39;00m\n\u001b[0;32m    353\u001b[0m \u001b[38;5;124;03ma JSON document) and return a 2-tuple of the Python\u001b[39;00m\n\u001b[0;32m    354\u001b[0m \u001b[38;5;124;03mrepresentation and the index in ``s`` where the document ended.\u001b[39;00m\n\u001b[1;32m   (...)\u001b[0m\n\u001b[0;32m    358\u001b[0m \n\u001b[0;32m    359\u001b[0m \u001b[38;5;124;03m\"\"\"\u001b[39;00m\n\u001b[0;32m    360\u001b[0m \u001b[38;5;28;01mtry\u001b[39;00m:\n\u001b[1;32m--> 361\u001b[0m     obj, end \u001b[38;5;241m=\u001b[39m \u001b[38;5;28;43mself\u001b[39;49m\u001b[38;5;241;43m.\u001b[39;49m\u001b[43mscan_once\u001b[49m\u001b[43m(\u001b[49m\u001b[43ms\u001b[49m\u001b[43m,\u001b[49m\u001b[43m \u001b[49m\u001b[43midx\u001b[49m\u001b[43m)\u001b[49m\n\u001b[0;32m    362\u001b[0m \u001b[38;5;28;01mexcept\u001b[39;00m \u001b[38;5;167;01mStopIteration\u001b[39;00m \u001b[38;5;28;01mas\u001b[39;00m err:\n\u001b[0;32m    363\u001b[0m     \u001b[38;5;28;01mraise\u001b[39;00m JSONDecodeError(\u001b[38;5;124m\"\u001b[39m\u001b[38;5;124mExpecting value\u001b[39m\u001b[38;5;124m\"\u001b[39m, s, err\u001b[38;5;241m.\u001b[39mvalue) \u001b[38;5;28;01mfrom\u001b[39;00m \u001b[38;5;28;01mNone\u001b[39;00m\n",
      "\u001b[1;31mJSONDecodeError\u001b[0m: Expecting ',' delimiter: line 1 column 1781 (char 1780)"
     ]
    }
   ],
   "source": [
    "import json\n",
    "json_data = json.loads(data2, object_pairs_hook=_handle_duplicates)"
   ]
  }
 ],
 "metadata": {
  "kernelspec": {
   "display_name": ".venv",
   "language": "python",
   "name": "python3"
  },
  "language_info": {
   "codemirror_mode": {
    "name": "ipython",
    "version": 3
   },
   "file_extension": ".py",
   "mimetype": "text/x-python",
   "name": "python",
   "nbconvert_exporter": "python",
   "pygments_lexer": "ipython3",
   "version": "3.13.1"
  }
 },
 "nbformat": 4,
 "nbformat_minor": 2
}
